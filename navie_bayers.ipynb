{
 "cells": [
  {
   "cell_type": "code",
   "execution_count": 1,
   "id": "9618cf42",
   "metadata": {},
   "outputs": [
    {
     "name": "stdout",
     "output_type": "stream",
     "text": [
      "['sunny', 'sunny', 'overcast', 'Rainy', 'Rainy', 'Rainy', 'overcast', 'sunny', 'sunny', 'Rainy', 'sunny', 'overcast', 'overcast', 'Rainy']\n"
     ]
    }
   ],
   "source": [
    "weather=['sunny','sunny','overcast','Rainy','Rainy','Rainy','overcast','sunny','sunny','Rainy','sunny','overcast','overcast','Rainy']\n",
    "temp=['Hot','Hot','Hot','Cool','Cool','Hot','Cool','Hot','Mild','Mild','Mild','Hot','Hot','Mild']\n",
    "play=['No','No','Yes','Yes','Yes','No','Yes','No','Yes','Yes','Yes','Yes','Yes','No']\n",
    "print(weather)"
   ]
  },
  {
   "cell_type": "code",
   "execution_count": 2,
   "id": "2445aaad",
   "metadata": {},
   "outputs": [
    {
     "name": "stdout",
     "output_type": "stream",
     "text": [
      "[2 2 1 0 0 0 1 2 2 0 2 1 1 0]\n"
     ]
    }
   ],
   "source": [
    "#Label encoder\n",
    "from sklearn import preprocessing\n",
    "le=preprocessing.LabelEncoder()\n",
    "weather_encoder=le.fit_transform(weather)\n",
    "print(weather_encoder)"
   ]
  },
  {
   "cell_type": "code",
   "execution_count": 3,
   "id": "30a10806",
   "metadata": {},
   "outputs": [
    {
     "name": "stdout",
     "output_type": "stream",
     "text": [
      "[1 1 1 0 0 1 0 1 2 2 2 1 1 2]\n"
     ]
    }
   ],
   "source": [
    "temp_encoder=le.fit_transform(temp)\n",
    "print(temp_encoder)"
   ]
  },
  {
   "cell_type": "code",
   "execution_count": 4,
   "id": "b78a4d74",
   "metadata": {},
   "outputs": [
    {
     "name": "stdout",
     "output_type": "stream",
     "text": [
      "[0 0 1 1 1 0 1 0 1 1 1 1 1 0]\n"
     ]
    }
   ],
   "source": [
    "label=le.fit_transform(play)\n",
    "print(label)"
   ]
  },
  {
   "cell_type": "code",
   "execution_count": 5,
   "id": "e6062f36",
   "metadata": {},
   "outputs": [
    {
     "name": "stdout",
     "output_type": "stream",
     "text": [
      "[(2, 1), (2, 1), (1, 1), (0, 0), (0, 0), (0, 1), (1, 0), (2, 1), (2, 2), (0, 2), (2, 2), (1, 1), (1, 1), (0, 2)]\n"
     ]
    }
   ],
   "source": [
    "feature=list(zip(weather_encoder,temp_encoder))\n",
    "print(feature)"
   ]
  },
  {
   "cell_type": "code",
   "execution_count": 7,
   "id": "d0c16e22",
   "metadata": {},
   "outputs": [
    {
     "name": "stdout",
     "output_type": "stream",
     "text": [
      "[1]\n"
     ]
    }
   ],
   "source": [
    "from sklearn.naive_bayes import MultinomialNB\n",
    "model=MultinomialNB()\n",
    "model.fit(feature,label)\n",
    "print(model.predict([[0,2]])) #0->rain 2->mild"
   ]
  }
 ],
 "metadata": {
  "kernelspec": {
   "display_name": "Python 3 (ipykernel)",
   "language": "python",
   "name": "python3"
  },
  "language_info": {
   "codemirror_mode": {
    "name": "ipython",
    "version": 3
   },
   "file_extension": ".py",
   "mimetype": "text/x-python",
   "name": "python",
   "nbconvert_exporter": "python",
   "pygments_lexer": "ipython3",
   "version": "3.10.6"
  }
 },
 "nbformat": 4,
 "nbformat_minor": 5
}
