{
 "cells": [
  {
   "cell_type": "code",
   "execution_count": 50,
   "id": "44caebf7",
   "metadata": {},
   "outputs": [
    {
     "name": "stdout",
     "output_type": "stream",
     "text": [
      "           Name      Surname  Age  Smokes  AreaQ  Alkhol  Result\n",
      "0          John         Wick   35       3      5       4       1\n",
      "1          John  Constantine   27      20      2       5       1\n",
      "2        Camela     Anderson   30       0      5       2       0\n",
      "3          Alex       Telles   28       0      8       1       0\n",
      "4         Diego     Maradona   68       4      5       6       1\n",
      "5     Cristiano      Ronaldo   34       0     10       0       0\n",
      "6        Mihail          Tal   58      15     10       0       0\n",
      "7         Kathy        Bates   22      12      5       2       0\n",
      "8        Nicole       Kidman   45       2      6       0       0\n",
      "9           Ray      Milland   52      18      4       5       1\n",
      "10      Fredric        March   33       4      8       0       0\n",
      "11          Yul      Brynner   18      10      6       3       0\n",
      "12         Joan     Crawford   25       2      5       1       0\n",
      "13         Jane        Wyman   28      20      2       8       1\n",
      "14         Anna      Magnani   34      25      4       8       1\n",
      "15   Katharine       Hepburn   39      18      8       1       0\n",
      "16   Katharine       Hepburn   42      22      3       5       1\n",
      "17       Barbra    Streisand   19      12      8       0       0\n",
      "18      Maggie         Smith   62       5      4       3       1\n",
      "19      Glenda       Jackson   73      10      7       6       1\n",
      "20        Jane         Fonda   55      15      1       3       1\n",
      "21  Maximilian        Schell   33       8      8       1       0\n",
      "22     Gregory          Peck   22      20      6       2       0\n",
      "23      Sidney       Poitier   44       5      8       1       0\n",
      "24         Rex      Harrison   77       3      2       6       1\n",
      "25         Lee        Marvin   21      20      5       3       0\n",
      "26        Paul      Scofield   37      15      6       2       0\n",
      "27         Rod       Steiger   34      12      8       0       0\n",
      "28        John         Wayne   55      20      1       4       1\n",
      "29        Gene       Hackman   40      20      2       7       1\n",
      "30      Marlon        Brando   36      13      5       2       0\n",
      "31        Jack        Lemmon   56      20      3       3       1\n",
      "32        Jack     Nicholson   47      15      1       8       1\n",
      "33       Peter        Finch    62      25      3       4       1\n",
      "34     Richard      Dreyfuss   26      10      7       2       0\n",
      "35      Dustin       Hoffman   25      20      8       2       0\n",
      "36       Henry        Henry    59      20      3       4       1\n",
      "37      Robert        Duvall   62      15      5       5       1\n",
      "38       Ellen       Burstyn   33      25      8       2       0\n",
      "39        Faye       Dunaway   37      10      5       3       0\n",
      "40       Diane        Keaton   50      20      2       4       1\n",
      "41        Jane         Fonda   47      12      8       0       0\n",
      "42       Sally         Field   69      20      5       4       1\n",
      "43       Sissy        Spacek   63      20      4       5       1\n",
      "44     Jessica         Lange   39      15      7       2       0\n",
      "45     Gwyneth       Paltrow   21      20      8       3       0\n",
      "46       Halle         Berry   31      20      9       4       0\n",
      "47      Nicole        Kidman   28      10      4       1       0\n",
      "48    Charlize        Theron   53      20      6       3       1\n",
      "49   Katharine       Hepburn   62      20      5       6       1\n",
      "50   Katharine       Hepburn   42      12      6       2       0\n",
      "51      Barbra     Streisand   44      30      1       6       1\n",
      "52      Maggie         Smith   26      34      1       8       1\n",
      "53      Glenda       Jackson   35      20      5       1       0\n",
      "54      Ernest      Borgnine   26      13      6       1       0\n",
      "55        Alec      Guinness   77      20      5       4       1\n",
      "56    Charlton        Heston   75      15      3       5       1\n",
      "57     Gregory          Peck   43      30      3       8       1\n",
      "58      Sidney       Poitier   51      25      9       0       0\n"
     ]
    }
   ],
   "source": [
    "import numpy as np\n",
    "import pandas as pd\n",
    "df=pd.read_csv(\"D:\\datascience/lung_cancer_examples.csv\")\n",
    "print(df)"
   ]
  },
  {
   "cell_type": "code",
   "execution_count": 51,
   "id": "128ee0c3",
   "metadata": {},
   "outputs": [
    {
     "name": "stdout",
     "output_type": "stream",
     "text": [
      "    Age  Smokes  AreaQ  Alkhol  Result\n",
      "0    35       3      5       4       1\n",
      "1    27      20      2       5       1\n",
      "2    30       0      5       2       0\n",
      "3    28       0      8       1       0\n",
      "4    68       4      5       6       1\n",
      "5    34       0     10       0       0\n",
      "6    58      15     10       0       0\n",
      "7    22      12      5       2       0\n",
      "8    45       2      6       0       0\n",
      "9    52      18      4       5       1\n",
      "10   33       4      8       0       0\n",
      "11   18      10      6       3       0\n",
      "12   25       2      5       1       0\n",
      "13   28      20      2       8       1\n",
      "14   34      25      4       8       1\n",
      "15   39      18      8       1       0\n",
      "16   42      22      3       5       1\n",
      "17   19      12      8       0       0\n",
      "18   62       5      4       3       1\n",
      "19   73      10      7       6       1\n",
      "20   55      15      1       3       1\n",
      "21   33       8      8       1       0\n",
      "22   22      20      6       2       0\n",
      "23   44       5      8       1       0\n",
      "24   77       3      2       6       1\n",
      "25   21      20      5       3       0\n",
      "26   37      15      6       2       0\n",
      "27   34      12      8       0       0\n",
      "28   55      20      1       4       1\n",
      "29   40      20      2       7       1\n",
      "30   36      13      5       2       0\n",
      "31   56      20      3       3       1\n",
      "32   47      15      1       8       1\n",
      "33   62      25      3       4       1\n",
      "34   26      10      7       2       0\n",
      "35   25      20      8       2       0\n",
      "36   59      20      3       4       1\n",
      "37   62      15      5       5       1\n",
      "38   33      25      8       2       0\n",
      "39   37      10      5       3       0\n",
      "40   50      20      2       4       1\n",
      "41   47      12      8       0       0\n",
      "42   69      20      5       4       1\n",
      "43   63      20      4       5       1\n",
      "44   39      15      7       2       0\n",
      "45   21      20      8       3       0\n",
      "46   31      20      9       4       0\n",
      "47   28      10      4       1       0\n",
      "48   53      20      6       3       1\n",
      "49   62      20      5       6       1\n",
      "50   42      12      6       2       0\n",
      "51   44      30      1       6       1\n",
      "52   26      34      1       8       1\n",
      "53   35      20      5       1       0\n",
      "54   26      13      6       1       0\n",
      "55   77      20      5       4       1\n",
      "56   75      15      3       5       1\n",
      "57   43      30      3       8       1\n",
      "58   51      25      9       0       0\n"
     ]
    }
   ],
   "source": [
    "df=df.drop(['Name','Surname'],axis=1)\n",
    "print(df)"
   ]
  },
  {
   "cell_type": "code",
   "execution_count": 52,
   "id": "077dca2e",
   "metadata": {},
   "outputs": [
    {
     "name": "stdout",
     "output_type": "stream",
     "text": [
      "[[35  3  5  4]\n",
      " [27 20  2  5]\n",
      " [30  0  5  2]\n",
      " [28  0  8  1]\n",
      " [68  4  5  6]\n",
      " [34  0 10  0]\n",
      " [58 15 10  0]\n",
      " [22 12  5  2]\n",
      " [45  2  6  0]\n",
      " [52 18  4  5]\n",
      " [33  4  8  0]\n",
      " [18 10  6  3]\n",
      " [25  2  5  1]\n",
      " [28 20  2  8]\n",
      " [34 25  4  8]\n",
      " [39 18  8  1]\n",
      " [42 22  3  5]\n",
      " [19 12  8  0]\n",
      " [62  5  4  3]\n",
      " [73 10  7  6]\n",
      " [55 15  1  3]\n",
      " [33  8  8  1]\n",
      " [22 20  6  2]\n",
      " [44  5  8  1]\n",
      " [77  3  2  6]\n",
      " [21 20  5  3]\n",
      " [37 15  6  2]\n",
      " [34 12  8  0]\n",
      " [55 20  1  4]\n",
      " [40 20  2  7]\n",
      " [36 13  5  2]\n",
      " [56 20  3  3]\n",
      " [47 15  1  8]\n",
      " [62 25  3  4]\n",
      " [26 10  7  2]\n",
      " [25 20  8  2]\n",
      " [59 20  3  4]\n",
      " [62 15  5  5]\n",
      " [33 25  8  2]\n",
      " [37 10  5  3]\n",
      " [50 20  2  4]\n",
      " [47 12  8  0]\n",
      " [69 20  5  4]\n",
      " [63 20  4  5]\n",
      " [39 15  7  2]\n",
      " [21 20  8  3]\n",
      " [31 20  9  4]\n",
      " [28 10  4  1]\n",
      " [53 20  6  3]\n",
      " [62 20  5  6]\n",
      " [42 12  6  2]\n",
      " [44 30  1  6]\n",
      " [26 34  1  8]\n",
      " [35 20  5  1]\n",
      " [26 13  6  1]\n",
      " [77 20  5  4]\n",
      " [75 15  3  5]\n",
      " [43 30  3  8]\n",
      " [51 25  9  0]]\n"
     ]
    }
   ],
   "source": [
    "x=df.iloc[:,:-1].values\n",
    "print(x)"
   ]
  },
  {
   "cell_type": "code",
   "execution_count": 53,
   "id": "95dcbabc",
   "metadata": {},
   "outputs": [
    {
     "name": "stdout",
     "output_type": "stream",
     "text": [
      "[1 1 0 0 1 0 0 0 0 1 0 0 0 1 1 0 1 0 1 1 1 0 0 0 1 0 0 0 1 1 0 1 1 1 0 0 1\n",
      " 1 0 0 1 0 1 1 0 0 0 0 1 1 0 1 1 0 0 1 1 1 0]\n"
     ]
    }
   ],
   "source": [
    "y=df.iloc[:,-1].values\n",
    "print(y)"
   ]
  },
  {
   "cell_type": "code",
   "execution_count": 54,
   "id": "207f9e28",
   "metadata": {},
   "outputs": [
    {
     "name": "stdout",
     "output_type": "stream",
     "text": [
      "the number of classess Counter({0: 31, 1: 28})\n"
     ]
    }
   ],
   "source": [
    "from collections import Counter\n",
    "print(\"the number of classess\",Counter(y))"
   ]
  },
  {
   "cell_type": "code",
   "execution_count": 55,
   "id": "fa017e66",
   "metadata": {},
   "outputs": [],
   "source": [
    "from sklearn.model_selection import train_test_split\n",
    "x_train,x_test,y_train,y_test=train_test_split(x,y,test_size=0.30,random_state=1)"
   ]
  },
  {
   "cell_type": "code",
   "execution_count": 56,
   "id": "a1bcd16b",
   "metadata": {},
   "outputs": [
    {
     "name": "stdout",
     "output_type": "stream",
     "text": [
      "             Age     Smokes      AreaQ     Alkhol     Result\n",
      "count  59.000000  59.000000  59.000000  59.000000  59.000000\n",
      "mean   42.627119  15.067797   5.203390   3.237288   0.474576\n",
      "std    16.235230   7.984607   2.461984   2.380517   0.503640\n",
      "min    18.000000   0.000000   1.000000   0.000000   0.000000\n",
      "25%    29.000000  10.000000   3.000000   1.000000   0.000000\n",
      "50%    39.000000  15.000000   5.000000   3.000000   0.000000\n",
      "75%    55.000000  20.000000   7.500000   5.000000   1.000000\n",
      "max    77.000000  34.000000  10.000000   8.000000   1.000000\n"
     ]
    }
   ],
   "source": [
    "print(df.describe())"
   ]
  },
  {
   "cell_type": "code",
   "execution_count": 57,
   "id": "86e3d748",
   "metadata": {},
   "outputs": [
    {
     "name": "stdout",
     "output_type": "stream",
     "text": [
      "[[0.71153846 0.58823529 0.57142857 0.75      ]\n",
      " [0.09615385 0.         0.57142857 0.25      ]\n",
      " [0.         0.58823529 1.         0.25      ]\n",
      " [0.05769231 0.29411765 0.42857143 0.125     ]\n",
      " [0.23076923 0.29411765 0.57142857 0.375     ]\n",
      " [0.01923077 0.29411765 0.85714286 0.25      ]\n",
      " [0.15384615 0.73529412 1.         0.25      ]\n",
      " [0.92307692 0.29411765 0.85714286 0.75      ]\n",
      " [0.15384615 0.23529412 1.         0.125     ]\n",
      " [0.01923077 1.         0.         1.        ]\n",
      " [0.26923077 0.44117647 0.85714286 0.25      ]\n",
      " [0.05769231 0.         1.         0.125     ]\n",
      " [0.65384615 0.58823529 0.28571429 0.5       ]\n",
      " [0.48076923 0.58823529 0.14285714 0.5       ]\n",
      " [1.         0.08823529 0.14285714 0.75      ]\n",
      " [0.15384615 0.11764706 1.         0.        ]\n",
      " [0.36538462 0.88235294 0.         0.75      ]\n",
      " [0.23076923 0.44117647 0.71428571 0.25      ]]\n"
     ]
    }
   ],
   "source": [
    "from sklearn import preprocessing\n",
    "from sklearn.preprocessing import MinMaxScaler\n",
    "import numpy as np\n",
    "MinMaxScaler=preprocessing.MinMaxScaler()\n",
    "x_train=MinMaxScaler.fit_transform(x_train)\n",
    "x_test=MinMaxScaler.fit_transform(x_test)\n",
    "print(x_test)"
   ]
  },
  {
   "cell_type": "code",
   "execution_count": 58,
   "id": "c9b783b3",
   "metadata": {},
   "outputs": [
    {
     "name": "stdout",
     "output_type": "stream",
     "text": [
      "[[0.71153846 0.58823529 0.57142857 0.75      ]\n",
      " [0.09615385 0.         0.57142857 0.25      ]\n",
      " [0.         0.58823529 1.         0.25      ]\n",
      " [0.05769231 0.29411765 0.42857143 0.125     ]\n",
      " [0.23076923 0.29411765 0.57142857 0.375     ]\n",
      " [0.01923077 0.29411765 0.85714286 0.25      ]\n",
      " [0.15384615 0.73529412 1.         0.25      ]\n",
      " [0.92307692 0.29411765 0.85714286 0.75      ]\n",
      " [0.15384615 0.23529412 1.         0.125     ]\n",
      " [0.01923077 1.         0.         1.        ]\n",
      " [0.26923077 0.44117647 0.85714286 0.25      ]\n",
      " [0.05769231 0.         1.         0.125     ]\n",
      " [0.65384615 0.58823529 0.28571429 0.5       ]\n",
      " [0.48076923 0.58823529 0.14285714 0.5       ]\n",
      " [1.         0.08823529 0.14285714 0.75      ]\n",
      " [0.15384615 0.11764706 1.         0.        ]\n",
      " [0.36538462 0.88235294 0.         0.75      ]\n",
      " [0.23076923 0.44117647 0.71428571 0.25      ]]\n"
     ]
    }
   ],
   "source": [
    "print(x_test)"
   ]
  },
  {
   "cell_type": "code",
   "execution_count": 59,
   "id": "594d5dd5",
   "metadata": {},
   "outputs": [
    {
     "name": "stdout",
     "output_type": "stream",
     "text": [
      "[[ 2.09039124  0.63995837 -0.07059551  0.31279639]\n",
      " [-0.45226265 -0.35284191 -0.07059551 -0.51460051]\n",
      " [ 0.22991278 -0.49467052  1.16986852 -1.34199741]\n",
      " [ 0.60200847  0.63995837  0.3428925  -0.10090206]\n",
      " [-0.57629454 -0.49467052  1.16986852 -1.34199741]\n",
      " [-0.76234239  0.63995837  1.58335653  0.31279639]\n",
      " [-0.01815101  2.05824449 -0.89757154  1.96759018]\n",
      " [ 0.78805632  0.63995837 -0.89757154 -0.10090206]\n",
      " [-0.94839023  0.63995837 -1.31105955  1.96759018]\n",
      " [-1.32048593  0.63995837  0.3428925  -0.51460051]\n",
      " [-0.08016696 -0.49467052  0.3428925  -0.51460051]\n",
      " [ 0.22991278 -0.06918469 -1.72454756  1.96759018]\n",
      " [-1.50653377 -0.49467052  1.16986852 -1.34199741]\n",
      " [-1.07242213 -0.35284191  0.3428925  -0.92829896]\n",
      " [ 1.16015201  1.34910143 -0.89757154  0.31279639]\n",
      " [ 0.04386494 -1.48747081  1.16986852 -0.92829896]\n",
      " [ 1.5322477  -1.62929942 -0.07059551  1.14019328]\n",
      " [-0.57629454  1.34910143 -0.48408353  1.96759018]\n",
      " [-0.20419885  0.63995837 -1.31105955  1.55389173]\n",
      " [ 0.72604037  0.63995837 -1.72454756  0.31279639]\n",
      " [-0.5142786   0.63995837 -0.07059551 -0.92829896]\n",
      " [ 1.59426365  0.63995837 -0.07059551  0.31279639]\n",
      " [ 1.16015201 -1.48747081 -0.48408353 -0.10090206]\n",
      " [ 0.47797658  1.34910143  1.58335653 -1.34199741]\n",
      " [ 0.72604037 -0.06918469 -1.72454756 -0.10090206]\n",
      " [-1.38250187  0.63995837 -0.07059551 -0.10090206]\n",
      " [ 0.91208822 -0.06918469  1.99684454 -1.34199741]\n",
      " [-1.38250187  0.63995837  1.16986852 -0.10090206]\n",
      " [-1.32048593 -0.49467052 -0.07059551 -0.51460051]\n",
      " [ 1.96635934 -0.06918469 -0.89757154  0.72649484]\n",
      " [-1.01040618  0.63995837 -1.31105955  0.72649484]\n",
      " [-0.08016696  0.92361559 -0.89757154  0.72649484]\n",
      " [-0.5142786  -1.77112803 -0.07059551  0.31279639]\n",
      " [-0.2662148   0.35630115  1.16986852 -0.92829896]\n",
      " [-0.57629454 -2.19661387  1.99684454 -1.34199741]\n",
      " [-1.56854972 -0.77832775  0.3428925  -0.10090206]\n",
      " [ 0.53999253  0.35630115 -0.48408353  0.72649484]\n",
      " [ 0.10588089 -1.91295664  0.3428925  -1.34199741]\n",
      " [-1.13443808 -1.91295664 -0.07059551 -0.92829896]\n",
      " [ 1.22216796  0.63995837 -0.48408353  0.72649484]\n",
      " [ 1.16015201 -0.06918469 -0.07059551  0.72649484]]\n"
     ]
    }
   ],
   "source": [
    "from sklearn.preprocessing import StandardScaler\n",
    "scalar=StandardScaler()\n",
    "scalar.fit(x_train)\n",
    "x_train=scalar.transform(x_train)\n",
    "x_test=scalar.transform(x_test)\n",
    "print(x_train)"
   ]
  },
  {
   "cell_type": "code",
   "execution_count": 60,
   "id": "4ac0186a",
   "metadata": {},
   "outputs": [
    {
     "name": "stdout",
     "output_type": "stream",
     "text": [
      "[[ 1.0349275   0.30624399  0.40196221  1.14019328]\n",
      " [-1.21672847 -2.19661387  0.40196221 -0.51460051]\n",
      " [-1.56854972  0.30624399  1.99684454 -0.51460051]\n",
      " [-1.35745697 -0.94518494 -0.12966523 -0.92829896]\n",
      " [-0.72417873 -0.94518494  0.40196221 -0.10090206]\n",
      " [-1.49818547 -0.94518494  1.4652171  -0.51460051]\n",
      " [-1.00563573  0.93195845  1.99684454 -0.51460051]\n",
      " [ 1.80893424 -0.94518494  1.4652171   1.14019328]\n",
      " [-1.00563573 -1.19547072  1.99684454 -0.92829896]\n",
      " [-1.49818547  2.05824449 -1.72454756  1.96759018]\n",
      " [-0.58345023 -0.31947047  1.4652171  -0.51460051]\n",
      " [-1.35745697 -2.19661387  1.99684454 -0.92829896]\n",
      " [ 0.82383475  0.30624399 -0.66129267  0.31279639]\n",
      " [ 0.19055651  0.30624399 -1.19292012  0.31279639]\n",
      " [ 2.09039124 -1.82118519 -1.19292012  1.14019328]\n",
      " [-1.00563573 -1.6960423   1.99684454 -1.34199741]\n",
      " [-0.23162899  1.55767292 -1.72454756  1.14019328]\n",
      " [-0.72417873 -0.31947047  0.93358966 -0.51460051]]\n"
     ]
    }
   ],
   "source": [
    "print(x_test)"
   ]
  },
  {
   "cell_type": "code",
   "execution_count": 61,
   "id": "99c4b414",
   "metadata": {},
   "outputs": [
    {
     "data": {
      "text/html": [
       "<style>#sk-container-id-2 {color: black;background-color: white;}#sk-container-id-2 pre{padding: 0;}#sk-container-id-2 div.sk-toggleable {background-color: white;}#sk-container-id-2 label.sk-toggleable__label {cursor: pointer;display: block;width: 100%;margin-bottom: 0;padding: 0.3em;box-sizing: border-box;text-align: center;}#sk-container-id-2 label.sk-toggleable__label-arrow:before {content: \"▸\";float: left;margin-right: 0.25em;color: #696969;}#sk-container-id-2 label.sk-toggleable__label-arrow:hover:before {color: black;}#sk-container-id-2 div.sk-estimator:hover label.sk-toggleable__label-arrow:before {color: black;}#sk-container-id-2 div.sk-toggleable__content {max-height: 0;max-width: 0;overflow: hidden;text-align: left;background-color: #f0f8ff;}#sk-container-id-2 div.sk-toggleable__content pre {margin: 0.2em;color: black;border-radius: 0.25em;background-color: #f0f8ff;}#sk-container-id-2 input.sk-toggleable__control:checked~div.sk-toggleable__content {max-height: 200px;max-width: 100%;overflow: auto;}#sk-container-id-2 input.sk-toggleable__control:checked~label.sk-toggleable__label-arrow:before {content: \"▾\";}#sk-container-id-2 div.sk-estimator input.sk-toggleable__control:checked~label.sk-toggleable__label {background-color: #d4ebff;}#sk-container-id-2 div.sk-label input.sk-toggleable__control:checked~label.sk-toggleable__label {background-color: #d4ebff;}#sk-container-id-2 input.sk-hidden--visually {border: 0;clip: rect(1px 1px 1px 1px);clip: rect(1px, 1px, 1px, 1px);height: 1px;margin: -1px;overflow: hidden;padding: 0;position: absolute;width: 1px;}#sk-container-id-2 div.sk-estimator {font-family: monospace;background-color: #f0f8ff;border: 1px dotted black;border-radius: 0.25em;box-sizing: border-box;margin-bottom: 0.5em;}#sk-container-id-2 div.sk-estimator:hover {background-color: #d4ebff;}#sk-container-id-2 div.sk-parallel-item::after {content: \"\";width: 100%;border-bottom: 1px solid gray;flex-grow: 1;}#sk-container-id-2 div.sk-label:hover label.sk-toggleable__label {background-color: #d4ebff;}#sk-container-id-2 div.sk-serial::before {content: \"\";position: absolute;border-left: 1px solid gray;box-sizing: border-box;top: 0;bottom: 0;left: 50%;z-index: 0;}#sk-container-id-2 div.sk-serial {display: flex;flex-direction: column;align-items: center;background-color: white;padding-right: 0.2em;padding-left: 0.2em;position: relative;}#sk-container-id-2 div.sk-item {position: relative;z-index: 1;}#sk-container-id-2 div.sk-parallel {display: flex;align-items: stretch;justify-content: center;background-color: white;position: relative;}#sk-container-id-2 div.sk-item::before, #sk-container-id-2 div.sk-parallel-item::before {content: \"\";position: absolute;border-left: 1px solid gray;box-sizing: border-box;top: 0;bottom: 0;left: 50%;z-index: -1;}#sk-container-id-2 div.sk-parallel-item {display: flex;flex-direction: column;z-index: 1;position: relative;background-color: white;}#sk-container-id-2 div.sk-parallel-item:first-child::after {align-self: flex-end;width: 50%;}#sk-container-id-2 div.sk-parallel-item:last-child::after {align-self: flex-start;width: 50%;}#sk-container-id-2 div.sk-parallel-item:only-child::after {width: 0;}#sk-container-id-2 div.sk-dashed-wrapped {border: 1px dashed gray;margin: 0 0.4em 0.5em 0.4em;box-sizing: border-box;padding-bottom: 0.4em;background-color: white;}#sk-container-id-2 div.sk-label label {font-family: monospace;font-weight: bold;display: inline-block;line-height: 1.2em;}#sk-container-id-2 div.sk-label-container {text-align: center;}#sk-container-id-2 div.sk-container {/* jupyter's `normalize.less` sets `[hidden] { display: none; }` but bootstrap.min.css set `[hidden] { display: none !important; }` so we also need the `!important` here to be able to override the default hidden behavior on the sphinx rendered scikit-learn.org. See: https://github.com/scikit-learn/scikit-learn/issues/21755 */display: inline-block !important;position: relative;}#sk-container-id-2 div.sk-text-repr-fallback {display: none;}</style><div id=\"sk-container-id-2\" class=\"sk-top-container\"><div class=\"sk-text-repr-fallback\"><pre>KNeighborsClassifier()</pre><b>In a Jupyter environment, please rerun this cell to show the HTML representation or trust the notebook. <br />On GitHub, the HTML representation is unable to render, please try loading this page with nbviewer.org.</b></div><div class=\"sk-container\" hidden><div class=\"sk-item\"><div class=\"sk-estimator sk-toggleable\"><input class=\"sk-toggleable__control sk-hidden--visually\" id=\"sk-estimator-id-2\" type=\"checkbox\" checked><label for=\"sk-estimator-id-2\" class=\"sk-toggleable__label sk-toggleable__label-arrow\">KNeighborsClassifier</label><div class=\"sk-toggleable__content\"><pre>KNeighborsClassifier()</pre></div></div></div></div></div>"
      ],
      "text/plain": [
       "KNeighborsClassifier()"
      ]
     },
     "execution_count": 61,
     "metadata": {},
     "output_type": "execute_result"
    }
   ],
   "source": [
    "from sklearn.neighbors import KNeighborsClassifier\n",
    "classifier=KNeighborsClassifier(n_neighbors=5)\n",
    "classifier.fit(x_train,y_train)"
   ]
  },
  {
   "cell_type": "code",
   "execution_count": 62,
   "id": "d722893e",
   "metadata": {},
   "outputs": [
    {
     "name": "stdout",
     "output_type": "stream",
     "text": [
      "[1 0 0 0 0 0 0 1 0 1 0 0 1 1 1 0 1 0]\n"
     ]
    }
   ],
   "source": [
    "y_pred=classifier.predict(x_test)\n",
    "print(y_pred)"
   ]
  },
  {
   "cell_type": "code",
   "execution_count": 64,
   "id": "592bc358",
   "metadata": {},
   "outputs": [
    {
     "name": "stdout",
     "output_type": "stream",
     "text": [
      "[1]\n"
     ]
    }
   ],
   "source": [
    "print(classifier.predict([[1,2,6,7]]))"
   ]
  },
  {
   "cell_type": "code",
   "execution_count": 65,
   "id": "266c02ce",
   "metadata": {},
   "outputs": [
    {
     "name": "stdout",
     "output_type": "stream",
     "text": [
      "[[11  0]\n",
      " [ 0  7]]\n",
      "1.0\n"
     ]
    }
   ],
   "source": [
    "from sklearn.metrics import classification_report,confusion_matrix,accuracy_score\n",
    "result=confusion_matrix(y_test,y_pred)\n",
    "result1=accuracy_score(y_test,y_pred)\n",
    "print(result)\n",
    "print(result1)"
   ]
  },
  {
   "cell_type": "code",
   "execution_count": 66,
   "id": "ae38602d",
   "metadata": {},
   "outputs": [
    {
     "name": "stdout",
     "output_type": "stream",
     "text": [
      "              precision    recall  f1-score   support\n",
      "\n",
      "           0       1.00      1.00      1.00        11\n",
      "           1       1.00      1.00      1.00         7\n",
      "\n",
      "    accuracy                           1.00        18\n",
      "   macro avg       1.00      1.00      1.00        18\n",
      "weighted avg       1.00      1.00      1.00        18\n",
      "\n"
     ]
    }
   ],
   "source": [
    "from sklearn.metrics import classification_report\n",
    "print(classification_report(y_test,y_pred))"
   ]
  },
  {
   "cell_type": "code",
   "execution_count": 67,
   "id": "6254d6e8",
   "metadata": {},
   "outputs": [
    {
     "name": "stdout",
     "output_type": "stream",
     "text": [
      "[1]\n"
     ]
    }
   ],
   "source": [
    "from sklearn.naive_bayes import GaussianNB\n",
    "model=GaussianNB()\n",
    "model.fit(x_train,y_train)\n",
    "y_pred=model.predict(x_test)\n",
    "#print(y_pred)\n",
    "print(model.predict([[2,5,5,6]]))"
   ]
  },
  {
   "cell_type": "code",
   "execution_count": 68,
   "id": "1341bb1a",
   "metadata": {},
   "outputs": [
    {
     "name": "stdout",
     "output_type": "stream",
     "text": [
      "1.0\n"
     ]
    }
   ],
   "source": [
    "from sklearn.metrics import confusion_matrix,accuracy_score\n",
    "score=accuracy_score(y_pred,y_test)\n",
    "print(score)"
   ]
  },
  {
   "cell_type": "code",
   "execution_count": 70,
   "id": "1fc998e7",
   "metadata": {},
   "outputs": [
    {
     "name": "stdout",
     "output_type": "stream",
     "text": [
      "[1]\n"
     ]
    }
   ],
   "source": [
    "from sklearn.svm import SVC\n",
    "classifier=SVC()\n",
    "classifier.fit(x_train,y_train)\n",
    "y_pred=classifier.predict(x_test)\n",
    "print(classifier.predict([[6,148,72,22]]))"
   ]
  },
  {
   "cell_type": "code",
   "execution_count": 71,
   "id": "2327712e",
   "metadata": {},
   "outputs": [
    {
     "name": "stdout",
     "output_type": "stream",
     "text": [
      "1.0\n"
     ]
    }
   ],
   "source": [
    "from sklearn.metrics import accuracy_score\n",
    "score=accuracy_score(y_pred,y_test)\n",
    "print(score)"
   ]
  }
 ],
 "metadata": {
  "kernelspec": {
   "display_name": "Python 3 (ipykernel)",
   "language": "python",
   "name": "python3"
  },
  "language_info": {
   "codemirror_mode": {
    "name": "ipython",
    "version": 3
   },
   "file_extension": ".py",
   "mimetype": "text/x-python",
   "name": "python",
   "nbconvert_exporter": "python",
   "pygments_lexer": "ipython3",
   "version": "3.10.6"
  }
 },
 "nbformat": 4,
 "nbformat_minor": 5
}
